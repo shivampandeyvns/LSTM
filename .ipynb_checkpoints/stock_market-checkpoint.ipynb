{
 "cells": [
  {
   "cell_type": "code",
   "execution_count": 9,
   "id": "1c2d0691",
   "metadata": {},
   "outputs": [],
   "source": [
    "import pandas_datareader as pdr\n",
    "import pandas as pd"
   ]
  },
  {
   "cell_type": "code",
   "execution_count": 6,
   "id": "427118c2",
   "metadata": {},
   "outputs": [],
   "source": [
    "key='3a152b7c6bf8f136551af559c5555fc340f4b8a8'"
   ]
  },
  {
   "cell_type": "code",
   "execution_count": 7,
   "id": "c9e1f754",
   "metadata": {},
   "outputs": [
    {
     "name": "stderr",
     "output_type": "stream",
     "text": [
      "c:\\python\\python39\\lib\\site-packages\\pandas_datareader\\tiingo.py:234: FutureWarning: In a future version of pandas all arguments of concat except for the argument 'objs' will be keyword-only\n",
      "  return pd.concat(dfs, self._concat_axis)\n"
     ]
    }
   ],
   "source": [
    "df=pdr.get_data_tiingo('AAPL',api_key=key)"
   ]
  },
  {
   "cell_type": "code",
   "execution_count": 8,
   "id": "680ac54f",
   "metadata": {},
   "outputs": [],
   "source": [
    "df.to_csv('AAPL.csv')"
   ]
  },
  {
   "cell_type": "code",
   "execution_count": 11,
   "id": "0eb00a46",
   "metadata": {},
   "outputs": [],
   "source": [
    "df=pd.read_csv('AAPL.csv')"
   ]
  },
  {
   "cell_type": "code",
   "execution_count": 12,
   "id": "7819675f",
   "metadata": {},
   "outputs": [
    {
     "data": {
      "text/html": [
       "<div>\n",
       "<style scoped>\n",
       "    .dataframe tbody tr th:only-of-type {\n",
       "        vertical-align: middle;\n",
       "    }\n",
       "\n",
       "    .dataframe tbody tr th {\n",
       "        vertical-align: top;\n",
       "    }\n",
       "\n",
       "    .dataframe thead th {\n",
       "        text-align: right;\n",
       "    }\n",
       "</style>\n",
       "<table border=\"1\" class=\"dataframe\">\n",
       "  <thead>\n",
       "    <tr style=\"text-align: right;\">\n",
       "      <th></th>\n",
       "      <th>symbol</th>\n",
       "      <th>date</th>\n",
       "      <th>close</th>\n",
       "      <th>high</th>\n",
       "      <th>low</th>\n",
       "      <th>open</th>\n",
       "      <th>volume</th>\n",
       "      <th>adjClose</th>\n",
       "      <th>adjHigh</th>\n",
       "      <th>adjLow</th>\n",
       "      <th>adjOpen</th>\n",
       "      <th>adjVolume</th>\n",
       "      <th>divCash</th>\n",
       "      <th>splitFactor</th>\n",
       "    </tr>\n",
       "  </thead>\n",
       "  <tbody>\n",
       "    <tr>\n",
       "      <th>0</th>\n",
       "      <td>AAPL</td>\n",
       "      <td>2016-10-17 00:00:00+00:00</td>\n",
       "      <td>117.55</td>\n",
       "      <td>117.84</td>\n",
       "      <td>116.78</td>\n",
       "      <td>117.33</td>\n",
       "      <td>23624896</td>\n",
       "      <td>27.555810</td>\n",
       "      <td>27.623791</td>\n",
       "      <td>27.375309</td>\n",
       "      <td>27.504238</td>\n",
       "      <td>94499584</td>\n",
       "      <td>0.0</td>\n",
       "      <td>1.0</td>\n",
       "    </tr>\n",
       "    <tr>\n",
       "      <th>1</th>\n",
       "      <td>AAPL</td>\n",
       "      <td>2016-10-18 00:00:00+00:00</td>\n",
       "      <td>117.47</td>\n",
       "      <td>118.21</td>\n",
       "      <td>117.45</td>\n",
       "      <td>118.18</td>\n",
       "      <td>24553478</td>\n",
       "      <td>27.537057</td>\n",
       "      <td>27.710526</td>\n",
       "      <td>27.532368</td>\n",
       "      <td>27.703493</td>\n",
       "      <td>98213912</td>\n",
       "      <td>0.0</td>\n",
       "      <td>1.0</td>\n",
       "    </tr>\n",
       "    <tr>\n",
       "      <th>2</th>\n",
       "      <td>AAPL</td>\n",
       "      <td>2016-10-19 00:00:00+00:00</td>\n",
       "      <td>117.12</td>\n",
       "      <td>117.76</td>\n",
       "      <td>113.80</td>\n",
       "      <td>117.25</td>\n",
       "      <td>20034594</td>\n",
       "      <td>27.455011</td>\n",
       "      <td>27.605038</td>\n",
       "      <td>26.676744</td>\n",
       "      <td>27.485485</td>\n",
       "      <td>80138376</td>\n",
       "      <td>0.0</td>\n",
       "      <td>1.0</td>\n",
       "    </tr>\n",
       "    <tr>\n",
       "      <th>3</th>\n",
       "      <td>AAPL</td>\n",
       "      <td>2016-10-20 00:00:00+00:00</td>\n",
       "      <td>117.06</td>\n",
       "      <td>117.38</td>\n",
       "      <td>116.33</td>\n",
       "      <td>116.86</td>\n",
       "      <td>24125801</td>\n",
       "      <td>27.440945</td>\n",
       "      <td>27.515959</td>\n",
       "      <td>27.269821</td>\n",
       "      <td>27.394062</td>\n",
       "      <td>96503204</td>\n",
       "      <td>0.0</td>\n",
       "      <td>1.0</td>\n",
       "    </tr>\n",
       "    <tr>\n",
       "      <th>4</th>\n",
       "      <td>AAPL</td>\n",
       "      <td>2016-10-21 00:00:00+00:00</td>\n",
       "      <td>116.60</td>\n",
       "      <td>116.91</td>\n",
       "      <td>116.28</td>\n",
       "      <td>116.81</td>\n",
       "      <td>23192665</td>\n",
       "      <td>27.333113</td>\n",
       "      <td>27.405783</td>\n",
       "      <td>27.258100</td>\n",
       "      <td>27.382341</td>\n",
       "      <td>92770660</td>\n",
       "      <td>0.0</td>\n",
       "      <td>1.0</td>\n",
       "    </tr>\n",
       "  </tbody>\n",
       "</table>\n",
       "</div>"
      ],
      "text/plain": [
       "  symbol                       date   close    high     low    open    volume  \\\n",
       "0   AAPL  2016-10-17 00:00:00+00:00  117.55  117.84  116.78  117.33  23624896   \n",
       "1   AAPL  2016-10-18 00:00:00+00:00  117.47  118.21  117.45  118.18  24553478   \n",
       "2   AAPL  2016-10-19 00:00:00+00:00  117.12  117.76  113.80  117.25  20034594   \n",
       "3   AAPL  2016-10-20 00:00:00+00:00  117.06  117.38  116.33  116.86  24125801   \n",
       "4   AAPL  2016-10-21 00:00:00+00:00  116.60  116.91  116.28  116.81  23192665   \n",
       "\n",
       "    adjClose    adjHigh     adjLow    adjOpen  adjVolume  divCash  splitFactor  \n",
       "0  27.555810  27.623791  27.375309  27.504238   94499584      0.0          1.0  \n",
       "1  27.537057  27.710526  27.532368  27.703493   98213912      0.0          1.0  \n",
       "2  27.455011  27.605038  26.676744  27.485485   80138376      0.0          1.0  \n",
       "3  27.440945  27.515959  27.269821  27.394062   96503204      0.0          1.0  \n",
       "4  27.333113  27.405783  27.258100  27.382341   92770660      0.0          1.0  "
      ]
     },
     "execution_count": 12,
     "metadata": {},
     "output_type": "execute_result"
    }
   ],
   "source": [
    "df.head()"
   ]
  },
  {
   "cell_type": "code",
   "execution_count": 13,
   "id": "92bc3729",
   "metadata": {},
   "outputs": [],
   "source": [
    "df2=df.reset_index()['close']"
   ]
  },
  {
   "cell_type": "code",
   "execution_count": 14,
   "id": "0f1301c7",
   "metadata": {},
   "outputs": [
    {
     "data": {
      "text/plain": [
       "[<matplotlib.lines.Line2D at 0x199eccf2250>]"
      ]
     },
     "execution_count": 14,
     "metadata": {},
     "output_type": "execute_result"
    },
    {
     "data": {
      "image/png": "[encoded data removed]",
      "text/plain": [
       "<Figure size 432x288 with 1 Axes>"
      ]
     },
     "metadata": {
      "needs_background": "light"
     },
     "output_type": "display_data"
    }
   ],
   "source": [
    "import matplotlib.pyplot as plt\n",
    "plt.plot(df2)"
   ]
  },
  {
   "cell_type": "code",
   "execution_count": 15,
   "id": "c22b943e",
   "metadata": {},
   "outputs": [],
   "source": [
    "import numpy as np\n",
    "from sklearn.preprocessing import MinMaxScaler\n",
    "scaler=MinMaxScaler(feature_range=(0,1))\n",
    "df1=scaler.fit_transform(np.array(df2).reshape(-1,1))"
   ]
  },
  {
   "cell_type": "code",
   "execution_count": 16,
   "id": "ce73fd3c",
   "metadata": {},
   "outputs": [
    {
     "data": {
      "text/plain": [
       "(1257, 1)"
      ]
     },
     "execution_count": 16,
     "metadata": {},
     "output_type": "execute_result"
    }
   ],
   "source": [
    "df1.shape"
   ]
  },
  {
   "cell_type": "code",
   "execution_count": 17,
   "id": "fe8c17f5",
   "metadata": {},
   "outputs": [],
   "source": [
    "training_size=int(len(df1)*0.65)\n",
    "test_size=len(df1)-training_size\n",
    "train_data,test_data=df1[0:training_size,:],df1[training_size:len(df1),:1]"
   ]
  },
  {
   "cell_type": "code",
   "execution_count": 18,
   "id": "b436ac96",
   "metadata": {},
   "outputs": [
    {
     "data": {
      "text/plain": [
       "(817, 440)"
      ]
     },
     "execution_count": 18,
     "metadata": {},
     "output_type": "execute_result"
    }
   ],
   "source": [
    "len(train_data),len(test_data)"
   ]
  },
  {
   "cell_type": "code",
   "execution_count": 20,
   "id": "1580528c",
   "metadata": {},
   "outputs": [],
   "source": [
    "def create_dataset(dataset,time_step=1):\n",
    "    dataX,dataY=[],[]\n",
    "    \n",
    "    for i in range(len(dataset)-time_step-1):\n",
    "        a=dataset[i:(i+time_step),0]\n",
    "        dataX.append(a)\n",
    "        dataY.append(dataset[i+time_step,0])\n",
    "    return np.array(dataX),np.array(dataY)    "
   ]
  },
  {
   "cell_type": "code",
   "execution_count": 21,
   "id": "2429c791",
   "metadata": {},
   "outputs": [],
   "source": [
    "time_step=100\n",
    "X_train,y_train=create_dataset(train_data,time_step)\n",
    "X_test,y_test=create_dataset(test_data,time_step)"
   ]
  },
  {
   "cell_type": "code",
   "execution_count": 23,
   "id": "40728616",
   "metadata": {},
   "outputs": [
    {
     "name": "stdout",
     "output_type": "stream",
     "text": [
      "(716, 100)\n",
      "(716,)\n"
     ]
    },
    {
     "data": {
      "text/plain": [
       "(None, None)"
      ]
     },
     "execution_count": 23,
     "metadata": {},
     "output_type": "execute_result"
    }
   ],
   "source": [
    "print(X_train.shape),print(y_train.shape)"
   ]
  },
  {
   "cell_type": "code",
   "execution_count": 24,
   "id": "a6a0bdf1",
   "metadata": {},
   "outputs": [],
   "source": [
    "X_train=X_train.reshape(X_train.shape[0],X_train.shape[1],1)\n",
    "X_test=X_test.reshape(X_test.shape[0],X_test.shape[1],1)"
   ]
  },
  {
   "cell_type": "code",
   "execution_count": 26,
   "id": "5982b445",
   "metadata": {},
   "outputs": [],
   "source": [
    "from tensorflow.keras.models import Sequential\n",
    "from tensorflow.keras.layers import LSTM\n",
    "from tensorflow.keras.layers import Dense"
   ]
  },
  {
   "cell_type": "code",
   "execution_count": 30,
   "id": "f6be65bf",
   "metadata": {},
   "outputs": [],
   "source": [
    "model=Sequential()\n",
    "model.add(LSTM(50,return_sequences=True,input_shape=(100,1)))\n",
    "model.add(LSTM(50,return_sequences=True))\n",
    "model.add(LSTM(50))\n",
    "model.add(Dense(1))\n",
    "model.compile(loss='mean_squared_error',optimizer='adam')"
   ]
  },
  {
   "cell_type": "code",
   "execution_count": 31,
   "id": "1e98fddc",
   "metadata": {},
   "outputs": [
    {
     "name": "stdout",
     "output_type": "stream",
     "text": [
      "Model: \"sequential_1\"\n",
      "_________________________________________________________________\n",
      "Layer (type)                 Output Shape              Param #   \n",
      "=================================================================\n",
      "lstm_3 (LSTM)                (None, 100, 50)           10400     \n",
      "_________________________________________________________________\n",
      "lstm_4 (LSTM)                (None, 100, 50)           20200     \n",
      "_________________________________________________________________\n",
      "lstm_5 (LSTM)                (None, 50)                20200     \n",
      "_________________________________________________________________\n",
      "dense_1 (Dense)              (None, 1)                 51        \n",
      "=================================================================\n",
      "Total params: 50,851\n",
      "Trainable params: 50,851\n",
      "Non-trainable params: 0\n",
      "_________________________________________________________________\n"
     ]
    }
   ],
   "source": [
    "model.summary()"
   ]
  },
  {
   "cell_type": "code",
   "execution_count": 32,
   "id": "0426ce71",
   "metadata": {},
   "outputs": [
    {
     "name": "stdout",
     "output_type": "stream",
     "text": [
      "Epoch 1/100\n",
      "8/8 [==============================] - 10s 226ms/step - loss: 0.0152 - val_loss: 0.0276\n",
      "Epoch 2/100\n",
      "8/8 [==============================] - 0s 32ms/step - loss: 0.0036 - val_loss: 0.0267\n",
      "Epoch 3/100\n",
      "8/8 [==============================] - 0s 30ms/step - loss: 0.0020 - val_loss: 0.0237\n",
      "Epoch 4/100\n",
      "8/8 [==============================] - 0s 29ms/step - loss: 0.0013 - val_loss: 0.0209\n",
      "Epoch 5/100\n",
      "8/8 [==============================] - 0s 27ms/step - loss: 8.7427e-04 - val_loss: 0.0228\n",
      "Epoch 6/100\n",
      "8/8 [==============================] - 0s 28ms/step - loss: 6.3160e-04 - val_loss: 0.0229\n",
      "Epoch 7/100\n",
      "8/8 [==============================] - 0s 28ms/step - loss: 5.4481e-04 - val_loss: 0.0252\n",
      "Epoch 8/100\n",
      "8/8 [==============================] - 0s 27ms/step - loss: 5.3058e-04 - val_loss: 0.0250\n",
      "Epoch 9/100\n",
      "8/8 [==============================] - 0s 26ms/step - loss: 5.0346e-04 - val_loss: 0.0230\n",
      "Epoch 10/100\n",
      "8/8 [==============================] - 0s 26ms/step - loss: 4.9402e-04 - val_loss: 0.0221\n",
      "Epoch 11/100\n",
      "8/8 [==============================] - 0s 27ms/step - loss: 4.8976e-04 - val_loss: 0.0235\n",
      "Epoch 12/100\n",
      "8/8 [==============================] - 0s 27ms/step - loss: 4.7467e-04 - val_loss: 0.0237\n",
      "Epoch 13/100\n",
      "8/8 [==============================] - 0s 27ms/step - loss: 4.6619e-04 - val_loss: 0.0219\n",
      "Epoch 14/100\n",
      "8/8 [==============================] - 0s 27ms/step - loss: 4.8951e-04 - val_loss: 0.0229\n",
      "Epoch 15/100\n",
      "8/8 [==============================] - 0s 26ms/step - loss: 4.4022e-04 - val_loss: 0.0244\n",
      "Epoch 16/100\n",
      "8/8 [==============================] - 0s 26ms/step - loss: 4.6606e-04 - val_loss: 0.0230\n",
      "Epoch 17/100\n",
      "8/8 [==============================] - 0s 26ms/step - loss: 4.2334e-04 - val_loss: 0.0213\n",
      "Epoch 18/100\n",
      "8/8 [==============================] - 0s 26ms/step - loss: 4.7424e-04 - val_loss: 0.0226\n",
      "Epoch 19/100\n",
      "8/8 [==============================] - 0s 27ms/step - loss: 4.2890e-04 - val_loss: 0.0238\n",
      "Epoch 20/100\n",
      "8/8 [==============================] - 0s 26ms/step - loss: 4.0907e-04 - val_loss: 0.0240\n",
      "Epoch 21/100\n",
      "8/8 [==============================] - 0s 27ms/step - loss: 3.9775e-04 - val_loss: 0.0232\n",
      "Epoch 22/100\n",
      "8/8 [==============================] - 0s 26ms/step - loss: 3.8791e-04 - val_loss: 0.0209\n",
      "Epoch 23/100\n",
      "8/8 [==============================] - 0s 27ms/step - loss: 3.9901e-04 - val_loss: 0.0209\n",
      "Epoch 24/100\n",
      "8/8 [==============================] - 0s 26ms/step - loss: 3.7953e-04 - val_loss: 0.0216\n",
      "Epoch 25/100\n",
      "8/8 [==============================] - 0s 27ms/step - loss: 3.5474e-04 - val_loss: 0.0230\n",
      "Epoch 26/100\n",
      "8/8 [==============================] - 0s 25ms/step - loss: 3.3770e-04 - val_loss: 0.0229\n",
      "Epoch 27/100\n",
      "8/8 [==============================] - 0s 27ms/step - loss: 3.3514e-04 - val_loss: 0.0246\n",
      "Epoch 28/100\n",
      "8/8 [==============================] - 0s 27ms/step - loss: 3.7735e-04 - val_loss: 0.0224\n",
      "Epoch 29/100\n",
      "8/8 [==============================] - 0s 28ms/step - loss: 3.2945e-04 - val_loss: 0.0217\n",
      "Epoch 30/100\n",
      "8/8 [==============================] - 0s 27ms/step - loss: 3.0542e-04 - val_loss: 0.0233\n",
      "Epoch 31/100\n",
      "8/8 [==============================] - 0s 26ms/step - loss: 2.9629e-04 - val_loss: 0.0199\n",
      "Epoch 32/100\n",
      "8/8 [==============================] - 0s 27ms/step - loss: 3.0667e-04 - val_loss: 0.0201\n",
      "Epoch 33/100\n",
      "8/8 [==============================] - 0s 27ms/step - loss: 2.8264e-04 - val_loss: 0.0210\n",
      "Epoch 34/100\n",
      "8/8 [==============================] - 0s 27ms/step - loss: 2.7594e-04 - val_loss: 0.0204\n",
      "Epoch 35/100\n",
      "8/8 [==============================] - 0s 26ms/step - loss: 2.7233e-04 - val_loss: 0.0215\n",
      "Epoch 36/100\n",
      "8/8 [==============================] - 0s 26ms/step - loss: 2.7731e-04 - val_loss: 0.0258\n",
      "Epoch 37/100\n",
      "8/8 [==============================] - 0s 25ms/step - loss: 3.1161e-04 - val_loss: 0.0200\n",
      "Epoch 38/100\n",
      "8/8 [==============================] - 0s 28ms/step - loss: 2.6769e-04 - val_loss: 0.0223\n",
      "Epoch 39/100\n",
      "8/8 [==============================] - 0s 28ms/step - loss: 2.6176e-04 - val_loss: 0.0220\n",
      "Epoch 40/100\n",
      "8/8 [==============================] - 0s 27ms/step - loss: 2.5983e-04 - val_loss: 0.0212\n",
      "Epoch 41/100\n",
      "8/8 [==============================] - 0s 27ms/step - loss: 2.5338e-04 - val_loss: 0.0218\n",
      "Epoch 42/100\n",
      "8/8 [==============================] - 0s 27ms/step - loss: 2.5142e-04 - val_loss: 0.0192\n",
      "Epoch 43/100\n",
      "8/8 [==============================] - 0s 27ms/step - loss: 2.5217e-04 - val_loss: 0.0213\n",
      "Epoch 44/100\n",
      "8/8 [==============================] - 0s 27ms/step - loss: 2.4492e-04 - val_loss: 0.0221\n",
      "Epoch 45/100\n",
      "8/8 [==============================] - 0s 27ms/step - loss: 2.4332e-04 - val_loss: 0.0183\n",
      "Epoch 46/100\n",
      "8/8 [==============================] - 0s 28ms/step - loss: 2.4669e-04 - val_loss: 0.0199\n",
      "Epoch 47/100\n",
      "8/8 [==============================] - 0s 27ms/step - loss: 2.4220e-04 - val_loss: 0.0200\n",
      "Epoch 48/100\n",
      "8/8 [==============================] - 0s 28ms/step - loss: 2.3647e-04 - val_loss: 0.0208\n",
      "Epoch 49/100\n",
      "8/8 [==============================] - 0s 28ms/step - loss: 2.5047e-04 - val_loss: 0.0195\n",
      "Epoch 50/100\n",
      "8/8 [==============================] - 0s 27ms/step - loss: 2.3649e-04 - val_loss: 0.0180\n",
      "Epoch 51/100\n",
      "8/8 [==============================] - 0s 27ms/step - loss: 2.3627e-04 - val_loss: 0.0197\n",
      "Epoch 52/100\n",
      "8/8 [==============================] - 0s 28ms/step - loss: 2.3204e-04 - val_loss: 0.0196\n",
      "Epoch 53/100\n",
      "8/8 [==============================] - 0s 27ms/step - loss: 2.4452e-04 - val_loss: 0.0199\n",
      "Epoch 54/100\n",
      "8/8 [==============================] - 0s 27ms/step - loss: 2.2700e-04 - val_loss: 0.0167\n",
      "Epoch 55/100\n",
      "8/8 [==============================] - 0s 27ms/step - loss: 2.5178e-04 - val_loss: 0.0179\n",
      "Epoch 56/100\n",
      "8/8 [==============================] - 0s 27ms/step - loss: 2.2164e-04 - val_loss: 0.0175\n",
      "Epoch 57/100\n",
      "8/8 [==============================] - 0s 27ms/step - loss: 2.2892e-04 - val_loss: 0.0176\n",
      "Epoch 58/100\n",
      "8/8 [==============================] - 0s 27ms/step - loss: 2.2900e-04 - val_loss: 0.0183\n",
      "Epoch 59/100\n",
      "8/8 [==============================] - 0s 27ms/step - loss: 2.2707e-04 - val_loss: 0.0180\n",
      "Epoch 60/100\n",
      "8/8 [==============================] - 0s 27ms/step - loss: 2.1311e-04 - val_loss: 0.0177\n",
      "Epoch 61/100\n",
      "8/8 [==============================] - 0s 27ms/step - loss: 2.1470e-04 - val_loss: 0.0178\n",
      "Epoch 62/100\n",
      "8/8 [==============================] - 0s 27ms/step - loss: 2.2305e-04 - val_loss: 0.0177\n",
      "Epoch 63/100\n",
      "8/8 [==============================] - 0s 27ms/step - loss: 2.2396e-04 - val_loss: 0.0145\n",
      "Epoch 64/100\n",
      "8/8 [==============================] - 0s 27ms/step - loss: 2.4209e-04 - val_loss: 0.0187\n",
      "Epoch 65/100\n",
      "8/8 [==============================] - 0s 26ms/step - loss: 2.2771e-04 - val_loss: 0.0169\n",
      "Epoch 66/100\n",
      "8/8 [==============================] - 0s 26ms/step - loss: 2.1112e-04 - val_loss: 0.0158\n",
      "Epoch 67/100\n",
      "8/8 [==============================] - 0s 27ms/step - loss: 2.0871e-04 - val_loss: 0.0160\n",
      "Epoch 68/100\n",
      "8/8 [==============================] - 0s 28ms/step - loss: 2.0173e-04 - val_loss: 0.0161\n",
      "Epoch 69/100\n",
      "8/8 [==============================] - 0s 27ms/step - loss: 1.9994e-04 - val_loss: 0.0168\n",
      "Epoch 70/100\n",
      "8/8 [==============================] - 0s 26ms/step - loss: 1.9976e-04 - val_loss: 0.0160\n",
      "Epoch 71/100\n",
      "8/8 [==============================] - 0s 27ms/step - loss: 2.0485e-04 - val_loss: 0.0165\n",
      "Epoch 72/100\n",
      "8/8 [==============================] - 0s 27ms/step - loss: 1.9850e-04 - val_loss: 0.0177\n",
      "Epoch 73/100\n",
      "8/8 [==============================] - 0s 28ms/step - loss: 2.0064e-04 - val_loss: 0.0176\n",
      "Epoch 74/100\n",
      "8/8 [==============================] - 0s 29ms/step - loss: 2.2437e-04 - val_loss: 0.0143\n",
      "Epoch 75/100\n",
      "8/8 [==============================] - 0s 28ms/step - loss: 2.1268e-04 - val_loss: 0.0156\n",
      "Epoch 76/100\n",
      "8/8 [==============================] - 0s 28ms/step - loss: 1.9233e-04 - val_loss: 0.0162\n",
      "Epoch 77/100\n",
      "8/8 [==============================] - 0s 28ms/step - loss: 1.9255e-04 - val_loss: 0.0173\n",
      "Epoch 78/100\n",
      "8/8 [==============================] - 0s 28ms/step - loss: 2.0693e-04 - val_loss: 0.0164\n",
      "Epoch 79/100\n",
      "8/8 [==============================] - 0s 29ms/step - loss: 1.9630e-04 - val_loss: 0.0143\n",
      "Epoch 80/100\n",
      "8/8 [==============================] - 0s 27ms/step - loss: 1.8733e-04 - val_loss: 0.0143\n"
     ]
    },
    {
     "name": "stdout",
     "output_type": "stream",
     "text": [
      "Epoch 81/100\n",
      "8/8 [==============================] - 0s 27ms/step - loss: 1.9010e-04 - val_loss: 0.0175\n",
      "Epoch 82/100\n",
      "8/8 [==============================] - 0s 27ms/step - loss: 2.0668e-04 - val_loss: 0.0168\n",
      "Epoch 83/100\n",
      "8/8 [==============================] - 0s 28ms/step - loss: 2.0214e-04 - val_loss: 0.0145\n",
      "Epoch 84/100\n",
      "8/8 [==============================] - 0s 27ms/step - loss: 1.8478e-04 - val_loss: 0.0133\n",
      "Epoch 85/100\n",
      "8/8 [==============================] - 0s 27ms/step - loss: 2.0462e-04 - val_loss: 0.0136\n",
      "Epoch 86/100\n",
      "8/8 [==============================] - 0s 27ms/step - loss: 1.7997e-04 - val_loss: 0.0150\n",
      "Epoch 87/100\n",
      "8/8 [==============================] - 0s 27ms/step - loss: 1.8697e-04 - val_loss: 0.0147\n",
      "Epoch 88/100\n",
      "8/8 [==============================] - 0s 28ms/step - loss: 1.8053e-04 - val_loss: 0.0127\n",
      "Epoch 89/100\n",
      "8/8 [==============================] - 0s 27ms/step - loss: 1.9740e-04 - val_loss: 0.0139\n",
      "Epoch 90/100\n",
      "8/8 [==============================] - 0s 28ms/step - loss: 1.7686e-04 - val_loss: 0.0147\n",
      "Epoch 91/100\n",
      "8/8 [==============================] - 0s 28ms/step - loss: 1.8942e-04 - val_loss: 0.0130\n",
      "Epoch 92/100\n",
      "8/8 [==============================] - 0s 28ms/step - loss: 1.9159e-04 - val_loss: 0.0134\n",
      "Epoch 93/100\n",
      "8/8 [==============================] - 0s 27ms/step - loss: 1.8895e-04 - val_loss: 0.0138\n",
      "Epoch 94/100\n",
      "8/8 [==============================] - 0s 27ms/step - loss: 1.7780e-04 - val_loss: 0.0157\n",
      "Epoch 95/100\n",
      "8/8 [==============================] - 0s 27ms/step - loss: 1.7347e-04 - val_loss: 0.0133\n",
      "Epoch 96/100\n",
      "8/8 [==============================] - 0s 27ms/step - loss: 1.7424e-04 - val_loss: 0.0136\n",
      "Epoch 97/100\n",
      "8/8 [==============================] - 0s 27ms/step - loss: 1.6616e-04 - val_loss: 0.0156\n",
      "Epoch 98/100\n",
      "8/8 [==============================] - 0s 28ms/step - loss: 1.7497e-04 - val_loss: 0.0144\n",
      "Epoch 99/100\n",
      "8/8 [==============================] - 0s 26ms/step - loss: 1.7474e-04 - val_loss: 0.0135\n",
      "Epoch 100/100\n",
      "8/8 [==============================] - 0s 26ms/step - loss: 1.6557e-04 - val_loss: 0.0129\n"
     ]
    },
    {
     "data": {
      "text/plain": [
       "<keras.callbacks.History at 0x19a9a8c24f0>"
      ]
     },
     "execution_count": 32,
     "metadata": {},
     "output_type": "execute_result"
    }
   ],
   "source": [
    "model.fit(X_train,y_train,validation_data=(X_test,y_test),epochs=100,batch_size=100,verbose=1)"
   ]
  },
  {
   "cell_type": "code",
   "execution_count": 33,
   "id": "385d44ad",
   "metadata": {},
   "outputs": [],
   "source": [
    "train_predict=model.predict(X_train)\n",
    "test_predict=model.predict(X_test)"
   ]
  },
  {
   "cell_type": "code",
   "execution_count": 34,
   "id": "d3c1ae75",
   "metadata": {},
   "outputs": [],
   "source": [
    "train_predict=scaler.inverse_transform(train_predict)\n",
    "test_predict=scaler.inverse_transform(test_predict)"
   ]
  },
  {
   "cell_type": "code",
   "execution_count": 36,
   "id": "fa94211b",
   "metadata": {},
   "outputs": [],
   "source": [
    "import math\n",
    "from sklearn.metrics import mean_squared_error"
   ]
  },
  {
   "cell_type": "code",
   "execution_count": 38,
   "id": "0fb59ba3",
   "metadata": {},
   "outputs": [
    {
     "data": {
      "text/plain": [
       "189.17394475618255"
      ]
     },
     "execution_count": 38,
     "metadata": {},
     "output_type": "execute_result"
    }
   ],
   "source": [
    "math.sqrt(mean_squared_error(y_train,train_predict))"
   ]
  },
  {
   "cell_type": "code",
   "execution_count": 39,
   "id": "2fd69180",
   "metadata": {},
   "outputs": [
    {
     "data": {
      "text/plain": [
       "223.27338107333787"
      ]
     },
     "execution_count": 39,
     "metadata": {},
     "output_type": "execute_result"
    }
   ],
   "source": [
    "math.sqrt(mean_squared_error(y_test,test_predict))"
   ]
  },
  {
   "cell_type": "code",
   "execution_count": null,
   "id": "0c0640b5",
   "metadata": {},
   "outputs": [],
   "source": []
  }
 ],
 "metadata": {
  "kernelspec": {
   "display_name": "Python 3 (ipykernel)",
   "language": "python",
   "name": "python3"
  },
  "language_info": {
   "codemirror_mode": {
    "name": "ipython",
    "version": 3
   },
   "file_extension": ".py",
   "mimetype": "text/x-python",
   "name": "python",
   "nbconvert_exporter": "python",
   "pygments_lexer": "ipython3",
   "version": "3.9.5"
  }
 },
 "nbformat": 4,
 "nbformat_minor": 5
}
